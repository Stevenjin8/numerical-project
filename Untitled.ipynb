{
 "cells": [
  {
   "cell_type": "code",
   "execution_count": 2,
   "id": "a696052b",
   "metadata": {},
   "outputs": [],
   "source": [
    "import json\n",
    "import tqdm\n",
    "from sklearn.feature_extraction.text import CountVectorizer\n",
    "from nltk.stem import SnowballStemmer\n",
    "import unidecode\n",
    "import numpy as np\n",
    "import matplotlib.pyplot as plt"
   ]
  },
  {
   "cell_type": "code",
   "execution_count": 3,
   "id": "e26813a2",
   "metadata": {},
   "outputs": [],
   "source": [
    "extra_stop_words = {\"course\", \"students\"}"
   ]
  },
  {
   "cell_type": "code",
   "execution_count": 4,
   "id": "eeb61e35",
   "metadata": {},
   "outputs": [],
   "source": [
    "with open(\"d\") as f:\n",
    "    courses = json.load(f)\n",
    "with open(\"d\") as f:\n",
    "    data = f.read()"
   ]
  },
  {
   "cell_type": "code",
   "execution_count": 7,
   "id": "79a07185",
   "metadata": {},
   "outputs": [
    {
     "ename": "UnicodeEncodeError",
     "evalue": "'ascii' codec can't encode character '\\u2019' in position 247: ordinal not in range(128)",
     "output_type": "error",
     "traceback": [
      "\u001b[0;31m---------------------------------------------------------------------------\u001b[0m",
      "\u001b[0;31mUnicodeEncodeError\u001b[0m                        Traceback (most recent call last)",
      "Cell \u001b[0;32mIn [7], line 1\u001b[0m\n\u001b[0;32m----> 1\u001b[0m \u001b[43mdata\u001b[49m\u001b[43m[\u001b[49m\u001b[43m:\u001b[49m\u001b[38;5;241;43m1000\u001b[39;49m\u001b[43m]\u001b[49m\u001b[38;5;241;43m.\u001b[39;49m\u001b[43mencode\u001b[49m\u001b[43m(\u001b[49m\u001b[38;5;124;43m\"\u001b[39;49m\u001b[38;5;124;43mascii\u001b[39;49m\u001b[38;5;124;43m\"\u001b[39;49m\u001b[43m)\u001b[49m\n",
      "\u001b[0;31mUnicodeEncodeError\u001b[0m: 'ascii' codec can't encode character '\\u2019' in position 247: ordinal not in range(128)"
     ]
    }
   ],
   "source": [
    "data[:1000].encode(\"ascii\")"
   ]
  },
  {
   "cell_type": "code",
   "execution_count": 107,
   "id": "fc55cc11",
   "metadata": {},
   "outputs": [],
   "source": [
    "corpus = [course[\"courseDescription\"] for course in courses]\n",
    "stemmer = nltk.stem.SnowballStemmer(\"english\")"
   ]
  },
  {
   "cell_type": "code",
   "execution_count": 108,
   "id": "4f63dae9",
   "metadata": {},
   "outputs": [],
   "source": [
    "import nltk"
   ]
  },
  {
   "cell_type": "code",
   "execution_count": 169,
   "id": "e21753ba",
   "metadata": {},
   "outputs": [],
   "source": [
    "def preprocess(description: str, stemmer=nltk.stem.SnowballStemmer(\"english\"), stopwords=nltk.corpus.stopwords.words(\"english\")):\n",
    "    tokens = [unidecode.unidecode(x.lower()) for x in nltk.tokenize.wordpunct_tokenize(description) if x.lower() not in stopwords and x[0].isalpha()]\n",
    "    stemmed = [stemmer.stem(x) for x in tokens]\n",
    "    return tokens"
   ]
  },
  {
   "cell_type": "code",
   "execution_count": 170,
   "id": "81fcb2d3",
   "metadata": {},
   "outputs": [],
   "source": [
    "vectorizer = CountVectorizer(stop_words=nltk.corpus.stopwords.words(\"english\"), analyzer=preprocess)"
   ]
  },
  {
   "cell_type": "code",
   "execution_count": 171,
   "id": "85044b32",
   "metadata": {},
   "outputs": [],
   "source": [
    "X = vectorizer.fit_transform(corpus)"
   ]
  },
  {
   "cell_type": "code",
   "execution_count": 172,
   "id": "56619f21",
   "metadata": {},
   "outputs": [
    {
     "data": {
      "text/plain": [
       "(1547, 11274)"
      ]
     },
     "execution_count": 172,
     "metadata": {},
     "output_type": "execute_result"
    }
   ],
   "source": [
    "X.shape"
   ]
  },
  {
   "cell_type": "code",
   "execution_count": 173,
   "id": "310daceb",
   "metadata": {},
   "outputs": [
    {
     "data": {
      "text/plain": [
       "(1547, 11274)"
      ]
     },
     "execution_count": 173,
     "metadata": {},
     "output_type": "execute_result"
    }
   ],
   "source": [
    "X.shape"
   ]
  },
  {
   "cell_type": "code",
   "execution_count": 174,
   "id": "b0f20092",
   "metadata": {},
   "outputs": [],
   "source": [
    "counts = np.array(X.sum(axis=0)).reshape(-1)"
   ]
  },
  {
   "cell_type": "code",
   "execution_count": 182,
   "id": "8fd8742b",
   "metadata": {},
   "outputs": [
    {
     "data": {
      "text/plain": [
       "[75,\n",
       " 76,\n",
       " 77,\n",
       " 77,\n",
       " 77,\n",
       " 77,\n",
       " 78,\n",
       " 78,\n",
       " 79,\n",
       " 79,\n",
       " 79,\n",
       " 79,\n",
       " 80,\n",
       " 80,\n",
       " 80,\n",
       " 80,\n",
       " 81,\n",
       " 81,\n",
       " 82,\n",
       " 82,\n",
       " 82,\n",
       " 83,\n",
       " 83,\n",
       " 83,\n",
       " 84,\n",
       " 84,\n",
       " 84,\n",
       " 84,\n",
       " 85,\n",
       " 86,\n",
       " 86,\n",
       " 86,\n",
       " 87,\n",
       " 87,\n",
       " 88,\n",
       " 88,\n",
       " 88,\n",
       " 89,\n",
       " 89,\n",
       " 89,\n",
       " 89,\n",
       " 90,\n",
       " 90,\n",
       " 90,\n",
       " 90,\n",
       " 90,\n",
       " 92,\n",
       " 93,\n",
       " 93,\n",
       " 93,\n",
       " 94,\n",
       " 94,\n",
       " 96,\n",
       " 97,\n",
       " 97,\n",
       " 97,\n",
       " 97,\n",
       " 98,\n",
       " 99,\n",
       " 99,\n",
       " 99,\n",
       " 99,\n",
       " 100,\n",
       " 100,\n",
       " 100,\n",
       " 100,\n",
       " 100,\n",
       " 100,\n",
       " 102,\n",
       " 102,\n",
       " 102,\n",
       " 103,\n",
       " 103,\n",
       " 104,\n",
       " 104,\n",
       " 104,\n",
       " 105,\n",
       " 105,\n",
       " 105,\n",
       " 106,\n",
       " 106,\n",
       " 106,\n",
       " 106,\n",
       " 106,\n",
       " 106,\n",
       " 107,\n",
       " 107,\n",
       " 108,\n",
       " 109,\n",
       " 109,\n",
       " 109,\n",
       " 110,\n",
       " 111,\n",
       " 112,\n",
       " 112,\n",
       " 115,\n",
       " 115,\n",
       " 116,\n",
       " 118,\n",
       " 120,\n",
       " 120,\n",
       " 123,\n",
       " 124,\n",
       " 124,\n",
       " 125,\n",
       " 125,\n",
       " 126,\n",
       " 126,\n",
       " 127,\n",
       " 127,\n",
       " 130,\n",
       " 132,\n",
       " 132,\n",
       " 133,\n",
       " 133,\n",
       " 134,\n",
       " 134,\n",
       " 135,\n",
       " 136,\n",
       " 136,\n",
       " 136,\n",
       " 137,\n",
       " 138,\n",
       " 138,\n",
       " 139,\n",
       " 143,\n",
       " 143,\n",
       " 143,\n",
       " 145,\n",
       " 146,\n",
       " 147,\n",
       " 150,\n",
       " 152,\n",
       " 153,\n",
       " 153,\n",
       " 153,\n",
       " 153,\n",
       " 154,\n",
       " 160,\n",
       " 162,\n",
       " 164,\n",
       " 166,\n",
       " 167,\n",
       " 172,\n",
       " 172,\n",
       " 175,\n",
       " 178,\n",
       " 186,\n",
       " 187,\n",
       " 188,\n",
       " 192,\n",
       " 192,\n",
       " 193,\n",
       " 194,\n",
       " 199,\n",
       " 201,\n",
       " 204,\n",
       " 205,\n",
       " 207,\n",
       " 208,\n",
       " 214,\n",
       " 223,\n",
       " 224,\n",
       " 225,\n",
       " 229,\n",
       " 229,\n",
       " 230,\n",
       " 234,\n",
       " 240,\n",
       " 241,\n",
       " 247,\n",
       " 249,\n",
       " 253,\n",
       " 253,\n",
       " 257,\n",
       " 257,\n",
       " 257,\n",
       " 261,\n",
       " 267,\n",
       " 268,\n",
       " 270,\n",
       " 271,\n",
       " 286,\n",
       " 294,\n",
       " 304,\n",
       " 306,\n",
       " 325,\n",
       " 325,\n",
       " 330,\n",
       " 340,\n",
       " 353,\n",
       " 375,\n",
       " 391,\n",
       " 420,\n",
       " 423,\n",
       " 432,\n",
       " 523,\n",
       " 554,\n",
       " 956,\n",
       " 1683]"
      ]
     },
     "execution_count": 182,
     "metadata": {},
     "output_type": "execute_result"
    }
   ],
   "source": [
    "sorted(counts)[-200:]"
   ]
  },
  {
   "cell_type": "code",
   "execution_count": 176,
   "id": "fc9185b3",
   "metadata": {},
   "outputs": [
    {
     "data": {
      "image/png": "[encoded data removed]",
      "text/plain": [
       "<Figure size 640x480 with 1 Axes>"
      ]
     },
     "metadata": {},
     "output_type": "display_data"
    }
   ],
   "source": [
    "plt.plot(counts[:1000]);"
   ]
  },
  {
   "cell_type": "code",
   "execution_count": 126,
   "id": "e202e24e",
   "metadata": {},
   "outputs": [
    {
     "data": {
      "text/plain": [
       "(7563,)"
      ]
     },
     "execution_count": 126,
     "metadata": {},
     "output_type": "execute_result"
    }
   ],
   "source": [
    "vectorizer.get_feature_names_out().shape"
   ]
  },
  {
   "cell_type": "code",
   "execution_count": 180,
   "id": "b2f6e868",
   "metadata": {},
   "outputs": [
    {
     "data": {
      "text/plain": [
       "'social'"
      ]
     },
     "execution_count": 180,
     "metadata": {},
     "output_type": "execute_result"
    }
   ],
   "source": [
    "vectorizer.get_feature_names_out()[9492]"
   ]
  },
  {
   "cell_type": "code",
   "execution_count": null,
   "id": "2dc44d53",
   "metadata": {},
   "outputs": [],
   "source": []
  }
 ],
 "metadata": {
  "kernelspec": {
   "display_name": "lin",
   "language": "python",
   "name": "lin"
  },
  "language_info": {
   "codemirror_mode": {
    "name": "ipython",
    "version": 3
   },
   "file_extension": ".py",
   "mimetype": "text/x-python",
   "name": "python",
   "nbconvert_exporter": "python",
   "pygments_lexer": "ipython3",
   "version": "3.8.13"
  }
 },
 "nbformat": 4,
 "nbformat_minor": 5
}
